{
  "nbformat": 4,
  "nbformat_minor": 0,
  "metadata": {
    "colab": {
      "name": "learn_tensorflow.ipynb",
      "provenance": [],
      "collapsed_sections": [],
      "authorship_tag": "ABX9TyPp/v9YjtTIqbaUNv3kdLuW"
    },
    "kernelspec": {
      "name": "python3",
      "display_name": "Python 3"
    }
  },
  "cells": [
    {
      "cell_type": "markdown",
      "metadata": {
        "id": "_dzRykD1FpXa"
      },
      "source": [
        "# Tensorflow Practice 1\r\n",
        "\r\n",
        "---\r\n",
        "\r\n"
      ]
    },
    {
      "cell_type": "code",
      "metadata": {
        "id": "jHF_KZHZFP80",
        "colab": {
          "base_uri": "https://localhost:8080/"
        },
        "outputId": "499c1f61-8655-4a95-a550-4797d1e64a2b"
      },
      "source": [
        "%tensorflow_version 2.x\r\n",
        "import tensorflow as tf\r\n",
        "print(tf.version)"
      ],
      "execution_count": 31,
      "outputs": [
        {
          "output_type": "stream",
          "text": [
            "<module 'tensorflow._api.v2.version' from '/usr/local/lib/python3.6/dist-packages/tensorflow/_api/v2/version/__init__.py'>\n"
          ],
          "name": "stdout"
        }
      ]
    },
    {
      "cell_type": "markdown",
      "metadata": {
        "id": "n9syKy5KoSEL"
      },
      "source": [
        "# Creating Tensors\r\n",
        "\r\n"
      ]
    },
    {
      "cell_type": "code",
      "metadata": {
        "colab": {
          "base_uri": "https://localhost:8080/"
        },
        "id": "hifS3uztm13J",
        "outputId": "0dac8499-792c-4869-d245-feafe81bffc6"
      },
      "source": [
        "string = tf.Variable(\"this is string\", tf.string)\r\n",
        "number = tf.Variable(324, tf.int16)\r\n",
        "floating64 = tf.Variable(3.457, tf.float64)\r\n",
        "floating16 = tf.Variable(3.487, tf.float16)\r\n",
        "print(string)\r\n",
        "print(number)\r\n",
        "print(floating64)\r\n",
        "print(floating16)"
      ],
      "execution_count": 32,
      "outputs": [
        {
          "output_type": "stream",
          "text": [
            "<tf.Variable 'Variable:0' shape=() dtype=string, numpy=b'this is string'>\n",
            "<tf.Variable 'Variable:0' shape=() dtype=int32, numpy=324>\n",
            "<tf.Variable 'Variable:0' shape=() dtype=float32, numpy=3.457>\n",
            "<tf.Variable 'Variable:0' shape=() dtype=float32, numpy=3.487>\n"
          ],
          "name": "stdout"
        }
      ]
    },
    {
      "cell_type": "markdown",
      "metadata": {
        "id": "vDPeYyEioXDr"
      },
      "source": [
        "# Rank\r\n",
        "\r\n"
      ]
    },
    {
      "cell_type": "code",
      "metadata": {
        "colab": {
          "base_uri": "https://localhost:8080/"
        },
        "id": "YyXqx5KVpZhp",
        "outputId": "585196bb-817c-4ffc-e04e-aea5bc90663e"
      },
      "source": [
        "rank1_tensor = tf.Variable([\"test\"], tf.string)\r\n",
        "rank2_tensor = tf.Variable([[\"test\", \"ok\", \"we\"], [\"test\", \"yes\", \"we\"]], tf.string)\r\n",
        "print(rank1_tensor)\r\n",
        "print(rank2_tensor)"
      ],
      "execution_count": 33,
      "outputs": [
        {
          "output_type": "stream",
          "text": [
            "<tf.Variable 'Variable:0' shape=(1,) dtype=string, numpy=array([b'test'], dtype=object)>\n",
            "<tf.Variable 'Variable:0' shape=(2, 3) dtype=string, numpy=\n",
            "array([[b'test', b'ok', b'we'],\n",
            "       [b'test', b'yes', b'we']], dtype=object)>\n"
          ],
          "name": "stdout"
        }
      ]
    },
    {
      "cell_type": "markdown",
      "metadata": {
        "id": "djKCl89jqPyJ"
      },
      "source": [
        "Determine rank"
      ]
    },
    {
      "cell_type": "code",
      "metadata": {
        "colab": {
          "base_uri": "https://localhost:8080/"
        },
        "id": "oGCvnyE_qT0T",
        "outputId": "208669a2-a87e-4d67-b242-a650aaae8bdb"
      },
      "source": [
        "tf.rank(rank2_tensor)"
      ],
      "execution_count": 34,
      "outputs": [
        {
          "output_type": "execute_result",
          "data": {
            "text/plain": [
              "<tf.Tensor: shape=(), dtype=int32, numpy=2>"
            ]
          },
          "metadata": {
            "tags": []
          },
          "execution_count": 34
        }
      ]
    },
    {
      "cell_type": "code",
      "metadata": {
        "colab": {
          "base_uri": "https://localhost:8080/"
        },
        "id": "qA-GzAUUqw6P",
        "outputId": "52cfa344-51da-41d1-c541-690b66bc052c"
      },
      "source": [
        "tf.rank(number)"
      ],
      "execution_count": 35,
      "outputs": [
        {
          "output_type": "execute_result",
          "data": {
            "text/plain": [
              "<tf.Tensor: shape=(), dtype=int32, numpy=0>"
            ]
          },
          "metadata": {
            "tags": []
          },
          "execution_count": 35
        }
      ]
    },
    {
      "cell_type": "code",
      "metadata": {
        "colab": {
          "base_uri": "https://localhost:8080/"
        },
        "id": "XuUnBjz4qys2",
        "outputId": "b2f86adb-d183-4745-fc3a-1edf54a182c3"
      },
      "source": [
        "rank1_tensor.shape"
      ],
      "execution_count": 36,
      "outputs": [
        {
          "output_type": "execute_result",
          "data": {
            "text/plain": [
              "TensorShape([1])"
            ]
          },
          "metadata": {
            "tags": []
          },
          "execution_count": 36
        }
      ]
    },
    {
      "cell_type": "code",
      "metadata": {
        "colab": {
          "base_uri": "https://localhost:8080/"
        },
        "id": "batJb3VyrB0P",
        "outputId": "ed21bead-824b-4e23-856f-bd6642ff3f8a"
      },
      "source": [
        "rank2_tensor.shape"
      ],
      "execution_count": 37,
      "outputs": [
        {
          "output_type": "execute_result",
          "data": {
            "text/plain": [
              "TensorShape([2, 3])"
            ]
          },
          "metadata": {
            "tags": []
          },
          "execution_count": 37
        }
      ]
    },
    {
      "cell_type": "markdown",
      "metadata": {
        "id": "0EaGkSBBrU1K"
      },
      "source": [
        "Changing Shapes"
      ]
    },
    {
      "cell_type": "code",
      "metadata": {
        "colab": {
          "base_uri": "https://localhost:8080/"
        },
        "id": "hPS8a41orcwu",
        "outputId": "13ca23b9-bd2a-4b34-bc50-f5884abca1c6"
      },
      "source": [
        "tensor1 = tf.ones([1,2,3])\r\n",
        "print(tensor1)"
      ],
      "execution_count": 38,
      "outputs": [
        {
          "output_type": "stream",
          "text": [
            "tf.Tensor(\n",
            "[[[1. 1. 1.]\n",
            "  [1. 1. 1.]]], shape=(1, 2, 3), dtype=float32)\n"
          ],
          "name": "stdout"
        }
      ]
    },
    {
      "cell_type": "code",
      "metadata": {
        "colab": {
          "base_uri": "https://localhost:8080/"
        },
        "id": "1ayj7105suP0",
        "outputId": "f5bb43d1-95e3-4cde-c986-85bf417da58f"
      },
      "source": [
        "tensor2 = tf.reshape(tensor1, [2,3,1])\r\n",
        "tensor3 = tf.reshape(tensor2, [3,-1])\r\n",
        "\r\n",
        "print(tensor2)\r\n",
        "print(tensor3)"
      ],
      "execution_count": 39,
      "outputs": [
        {
          "output_type": "stream",
          "text": [
            "tf.Tensor(\n",
            "[[[1.]\n",
            "  [1.]\n",
            "  [1.]]\n",
            "\n",
            " [[1.]\n",
            "  [1.]\n",
            "  [1.]]], shape=(2, 3, 1), dtype=float32)\n",
            "tf.Tensor(\n",
            "[[1. 1.]\n",
            " [1. 1.]\n",
            " [1. 1.]], shape=(3, 2), dtype=float32)\n"
          ],
          "name": "stdout"
        }
      ]
    },
    {
      "cell_type": "markdown",
      "metadata": {
        "id": "PHdJ3JQz0w6v"
      },
      "source": [
        "# Types of Tensors\r\n"
      ]
    },
    {
      "cell_type": "markdown",
      "metadata": {
        "id": "bHqI9_Bl3Q10"
      },
      "source": [
        "\r\n",
        "- Variable  (mutable)\r\n",
        "- Constant\r\n",
        "- Placeholder\r\n",
        "- SparseTensor"
      ]
    },
    {
      "cell_type": "markdown",
      "metadata": {
        "id": "zXMn6y7E1XQ4"
      },
      "source": [
        "# Evaluate Tensors\r\n",
        "find value of tensors"
      ]
    },
    {
      "cell_type": "code",
      "metadata": {
        "id": "7sSs6CQ61HOz",
        "outputId": "9d96530f-2b53-4ded-b8ca-ea7ad7026648",
        "colab": {
          "base_uri": "https://localhost:8080/",
          "height": 175
        }
      },
      "source": [
        "with tf.Session() as sess:\r\n",
        "  tensor.eval()"
      ],
      "execution_count": 40,
      "outputs": [
        {
          "output_type": "error",
          "ename": "AttributeError",
          "evalue": "ignored",
          "traceback": [
            "\u001b[0;31m---------------------------------------------------------------------------\u001b[0m",
            "\u001b[0;31mAttributeError\u001b[0m                            Traceback (most recent call last)",
            "\u001b[0;32m<ipython-input-40-918d75cda275>\u001b[0m in \u001b[0;36m<module>\u001b[0;34m()\u001b[0m\n\u001b[0;32m----> 1\u001b[0;31m \u001b[0;32mwith\u001b[0m \u001b[0mtf\u001b[0m\u001b[0;34m.\u001b[0m\u001b[0mSession\u001b[0m\u001b[0;34m(\u001b[0m\u001b[0;34m)\u001b[0m \u001b[0;32mas\u001b[0m \u001b[0msess\u001b[0m\u001b[0;34m:\u001b[0m\u001b[0;34m\u001b[0m\u001b[0;34m\u001b[0m\u001b[0m\n\u001b[0m\u001b[1;32m      2\u001b[0m   \u001b[0mtensor\u001b[0m\u001b[0;34m.\u001b[0m\u001b[0meval\u001b[0m\u001b[0;34m(\u001b[0m\u001b[0;34m)\u001b[0m\u001b[0;34m\u001b[0m\u001b[0;34m\u001b[0m\u001b[0m\n",
            "\u001b[0;31mAttributeError\u001b[0m: module 'tensorflow' has no attribute 'Session'"
          ]
        }
      ]
    }
  ]
}