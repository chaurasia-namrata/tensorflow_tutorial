{
  "nbformat": 4,
  "nbformat_minor": 0,
  "metadata": {
    "colab": {
      "name": "learn_tensorflow.ipynb",
      "provenance": [],
      "collapsed_sections": [],
      "authorship_tag": "ABX9TyOEGYQO8sK4i+VFN76n4d9T"
    },
    "kernelspec": {
      "name": "python3",
      "display_name": "Python 3"
    }
  },
  "cells": [
    {
      "cell_type": "markdown",
      "metadata": {
        "id": "_dzRykD1FpXa"
      },
      "source": [
        "# Tensorflow Practice 1\r\n",
        "\r\n",
        "---\r\n",
        "\r\n"
      ]
    },
    {
      "cell_type": "code",
      "metadata": {
        "id": "jHF_KZHZFP80",
        "colab": {
          "base_uri": "https://localhost:8080/"
        },
        "outputId": "1e59d6a3-bb8c-49df-bf87-3ec9f71ca863"
      },
      "source": [
        "%tensorflow_version 2.x\r\n",
        "import tensorflow as tf\r\n",
        "print(tf.version)"
      ],
      "execution_count": 5,
      "outputs": [
        {
          "output_type": "stream",
          "text": [
            "<module 'tensorflow._api.v2.version' from '/usr/local/lib/python3.6/dist-packages/tensorflow/_api/v2/version/__init__.py'>\n"
          ],
          "name": "stdout"
        }
      ]
    },
    {
      "cell_type": "markdown",
      "metadata": {
        "id": "n9syKy5KoSEL"
      },
      "source": [
        "# Creating Tensors\r\n",
        "\r\n",
        "---\r\n",
        "\r\n"
      ]
    },
    {
      "cell_type": "code",
      "metadata": {
        "id": "hifS3uztm13J",
        "outputId": "8ad3f9f7-e29c-4a4f-8bd7-b0113b39c3d7",
        "colab": {
          "base_uri": "https://localhost:8080/"
        }
      },
      "source": [
        "string = tf.Variable(\"this is string\", tf.string)\r\n",
        "number = tf.Variable(324, tf.int16)\r\n",
        "floating64 = tf.Variable(3.457, tf.float64)\r\n",
        "floating16 = tf.Variable(3.487, tf.float16)\r\n",
        "print(string)\r\n",
        "print(number)\r\n",
        "print(floating64)\r\n",
        "print(floating16)"
      ],
      "execution_count": 11,
      "outputs": [
        {
          "output_type": "stream",
          "text": [
            "<tf.Variable 'Variable:0' shape=() dtype=string, numpy=b'this is string'>\n",
            "<tf.Variable 'Variable:0' shape=() dtype=int32, numpy=324>\n",
            "<tf.Variable 'Variable:0' shape=() dtype=float32, numpy=3.457>\n",
            "<tf.Variable 'Variable:0' shape=() dtype=float32, numpy=3.487>\n"
          ],
          "name": "stdout"
        }
      ]
    },
    {
      "cell_type": "markdown",
      "metadata": {
        "id": "vDPeYyEioXDr"
      },
      "source": [
        "# Rank\r\n",
        "\r\n",
        "---\r\n",
        "\r\n"
      ]
    },
    {
      "cell_type": "code",
      "metadata": {
        "id": "YyXqx5KVpZhp",
        "outputId": "59faf29d-af5f-4320-d150-6fb0ab58bb7d",
        "colab": {
          "base_uri": "https://localhost:8080/"
        }
      },
      "source": [
        "rank1_tensor = tf.Variable([\"test\"], tf.string)\r\n",
        "rank2_tensor = tf.Variable([[\"test\", \"ok\", \"we\"], [\"test\", \"yes\", \"we\"]], tf.string)\r\n",
        "print(rank1_tensor)\r\n",
        "print(rank2_tensor)"
      ],
      "execution_count": 19,
      "outputs": [
        {
          "output_type": "stream",
          "text": [
            "<tf.Variable 'Variable:0' shape=(1,) dtype=string, numpy=array([b'test'], dtype=object)>\n",
            "<tf.Variable 'Variable:0' shape=(2, 3) dtype=string, numpy=\n",
            "array([[b'test', b'ok', b'we'],\n",
            "       [b'test', b'yes', b'we']], dtype=object)>\n"
          ],
          "name": "stdout"
        }
      ]
    },
    {
      "cell_type": "markdown",
      "metadata": {
        "id": "djKCl89jqPyJ"
      },
      "source": [
        "Determine rank"
      ]
    },
    {
      "cell_type": "code",
      "metadata": {
        "id": "oGCvnyE_qT0T",
        "outputId": "08325270-6626-49c1-fd81-fdaf1d639da2",
        "colab": {
          "base_uri": "https://localhost:8080/"
        }
      },
      "source": [
        "tf.rank(rank2_tensor)"
      ],
      "execution_count": 20,
      "outputs": [
        {
          "output_type": "execute_result",
          "data": {
            "text/plain": [
              "<tf.Tensor: shape=(), dtype=int32, numpy=2>"
            ]
          },
          "metadata": {
            "tags": []
          },
          "execution_count": 20
        }
      ]
    },
    {
      "cell_type": "code",
      "metadata": {
        "id": "qA-GzAUUqw6P",
        "outputId": "fb2e417f-3ac6-4bdb-c788-f275b47209b8",
        "colab": {
          "base_uri": "https://localhost:8080/"
        }
      },
      "source": [
        "tf.rank(number)"
      ],
      "execution_count": 17,
      "outputs": [
        {
          "output_type": "execute_result",
          "data": {
            "text/plain": [
              "<tf.Tensor: shape=(), dtype=int32, numpy=0>"
            ]
          },
          "metadata": {
            "tags": []
          },
          "execution_count": 17
        }
      ]
    },
    {
      "cell_type": "code",
      "metadata": {
        "id": "XuUnBjz4qys2",
        "outputId": "5c889977-7c31-413c-b497-6b3c5f4df5cb",
        "colab": {
          "base_uri": "https://localhost:8080/"
        }
      },
      "source": [
        "rank1_tensor.shape"
      ],
      "execution_count": 21,
      "outputs": [
        {
          "output_type": "execute_result",
          "data": {
            "text/plain": [
              "TensorShape([1])"
            ]
          },
          "metadata": {
            "tags": []
          },
          "execution_count": 21
        }
      ]
    },
    {
      "cell_type": "code",
      "metadata": {
        "id": "batJb3VyrB0P",
        "outputId": "120d98b2-4d1f-4d69-a3c3-a1138dcff556",
        "colab": {
          "base_uri": "https://localhost:8080/"
        }
      },
      "source": [
        "rank2_tensor.shape"
      ],
      "execution_count": 22,
      "outputs": [
        {
          "output_type": "execute_result",
          "data": {
            "text/plain": [
              "TensorShape([2, 3])"
            ]
          },
          "metadata": {
            "tags": []
          },
          "execution_count": 22
        }
      ]
    },
    {
      "cell_type": "markdown",
      "metadata": {
        "id": "0EaGkSBBrU1K"
      },
      "source": [
        "Changing Shapes"
      ]
    },
    {
      "cell_type": "code",
      "metadata": {
        "id": "hPS8a41orcwu",
        "outputId": "046fa7f4-7e1c-4cd3-b7f1-44bd67b95411",
        "colab": {
          "base_uri": "https://localhost:8080/"
        }
      },
      "source": [
        "tensor1 = tf.ones([1,2,3])\r\n",
        "print(tensor1)"
      ],
      "execution_count": 24,
      "outputs": [
        {
          "output_type": "stream",
          "text": [
            "tf.Tensor(\n",
            "[[[1. 1. 1.]\n",
            "  [1. 1. 1.]]], shape=(1, 2, 3), dtype=float32)\n"
          ],
          "name": "stdout"
        }
      ]
    },
    {
      "cell_type": "code",
      "metadata": {
        "id": "1ayj7105suP0",
        "outputId": "acc0d99d-1215-4624-f074-807028dee5d3",
        "colab": {
          "base_uri": "https://localhost:8080/"
        }
      },
      "source": [
        "tensor2 = tf.reshape(tensor1, [2,3,1])\r\n",
        "tensor3 = tf.reshape(tensor2, [3,-1])\r\n",
        "\r\n",
        "print(tensor2)\r\n",
        "print(tensor3)"
      ],
      "execution_count": 29,
      "outputs": [
        {
          "output_type": "stream",
          "text": [
            "tf.Tensor(\n",
            "[[[1.]\n",
            "  [1.]\n",
            "  [1.]]\n",
            "\n",
            " [[1.]\n",
            "  [1.]\n",
            "  [1.]]], shape=(2, 3, 1), dtype=float32)\n",
            "tf.Tensor(\n",
            "[[1. 1.]\n",
            " [1. 1.]\n",
            " [1. 1.]], shape=(3, 2), dtype=float32)\n"
          ],
          "name": "stdout"
        }
      ]
    }
  ]
}